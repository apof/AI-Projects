{
  "nbformat": 4,
  "nbformat_minor": 0,
  "metadata": {
    "colab": {
      "name": "DQN Switch-n Gym.ipynb",
      "provenance": [],
      "collapsed_sections": [],
      "authorship_tag": "ABX9TyNi3WqCEMMDscrtO91btmmI",
      "include_colab_link": true
    },
    "kernelspec": {
      "name": "python3",
      "display_name": "Python 3"
    }
  },
  "cells": [
    {
      "cell_type": "markdown",
      "metadata": {
        "id": "view-in-github",
        "colab_type": "text"
      },
      "source": [
        "<a href=\"https://colab.research.google.com/github/apof/AI-Projects/blob/master/DQN_Switch_n_Gym.ipynb\" target=\"_parent\"><img src=\"https://colab.research.google.com/assets/colab-badge.svg\" alt=\"Open In Colab\"/></a>"
      ]
    },
    {
      "cell_type": "code",
      "metadata": {
        "id": "N0MTkFoNkLi2",
        "colab": {
          "base_uri": "https://localhost:8080/"
        },
        "outputId": "19a98687-06b6-4e49-efee-bb9788c00b0d"
      },
      "source": [
        "!rm -rf /content/ma-gym  \n",
        "!git clone https://github.com/koulanurag/ma-gym.git \n",
        "%cd /content/ma-gym \n",
        "!pip install -q -e . \n",
        "!apt-get install -y xvfb python-opengl x11-utils > /dev/null 2>&1\n",
        "!pip install pyvirtualdisplay > /dev/null 2>&1\n",
        "!apt-get install x11-utils\n",
        "!apt-get update > /dev/null 2>&1\n",
        "!apt-get install cmake > /dev/null 2>&1\n",
        "!pip install --upgrade setuptools 2>&1\n",
        "!pip install ez_setup > /dev/null 2>&1\n",
        "!pip install -U gym[atari] > /dev/null 2>&1"
      ],
      "execution_count": 1,
      "outputs": [
        {
          "output_type": "stream",
          "text": [
            "Cloning into 'ma-gym'...\n",
            "remote: Enumerating objects: 50, done.\u001b[K\n",
            "remote: Counting objects:   2% (1/50)\u001b[K\rremote: Counting objects:   4% (2/50)\u001b[K\rremote: Counting objects:   6% (3/50)\u001b[K\rremote: Counting objects:   8% (4/50)\u001b[K\rremote: Counting objects:  10% (5/50)\u001b[K\rremote: Counting objects:  12% (6/50)\u001b[K\rremote: Counting objects:  14% (7/50)\u001b[K\rremote: Counting objects:  16% (8/50)\u001b[K\rremote: Counting objects:  18% (9/50)\u001b[K\rremote: Counting objects:  20% (10/50)\u001b[K\rremote: Counting objects:  22% (11/50)\u001b[K\rremote: Counting objects:  24% (12/50)\u001b[K\rremote: Counting objects:  26% (13/50)\u001b[K\rremote: Counting objects:  28% (14/50)\u001b[K\rremote: Counting objects:  30% (15/50)\u001b[K\rremote: Counting objects:  32% (16/50)\u001b[K\rremote: Counting objects:  34% (17/50)\u001b[K\rremote: Counting objects:  36% (18/50)\u001b[K\rremote: Counting objects:  38% (19/50)\u001b[K\rremote: Counting objects:  40% (20/50)\u001b[K\rremote: Counting objects:  42% (21/50)\u001b[K\rremote: Counting objects:  44% (22/50)\u001b[K\rremote: Counting objects:  46% (23/50)\u001b[K\rremote: Counting objects:  48% (24/50)\u001b[K\rremote: Counting objects:  50% (25/50)\u001b[K\rremote: Counting objects:  52% (26/50)\u001b[K\rremote: Counting objects:  54% (27/50)\u001b[K\rremote: Counting objects:  56% (28/50)\u001b[K\rremote: Counting objects:  58% (29/50)\u001b[K\rremote: Counting objects:  60% (30/50)\u001b[K\rremote: Counting objects:  62% (31/50)\u001b[K\rremote: Counting objects:  64% (32/50)\u001b[K\rremote: Counting objects:  66% (33/50)\u001b[K\rremote: Counting objects:  68% (34/50)\u001b[K\rremote: Counting objects:  70% (35/50)\u001b[K\rremote: Counting objects:  72% (36/50)\u001b[K\rremote: Counting objects:  74% (37/50)\u001b[K\rremote: Counting objects:  76% (38/50)\u001b[K\rremote: Counting objects:  78% (39/50)\u001b[K\rremote: Counting objects:  80% (40/50)\u001b[K\rremote: Counting objects:  82% (41/50)\u001b[K\rremote: Counting objects:  84% (42/50)\u001b[K\rremote: Counting objects:  86% (43/50)\u001b[K\rremote: Counting objects:  88% (44/50)\u001b[K\rremote: Counting objects:  90% (45/50)\u001b[K\rremote: Counting objects:  92% (46/50)\u001b[K\rremote: Counting objects:  94% (47/50)\u001b[K\rremote: Counting objects:  96% (48/50)\u001b[K\rremote: Counting objects:  98% (49/50)\u001b[K\rremote: Counting objects: 100% (50/50)\u001b[K\rremote: Counting objects: 100% (50/50), done.\u001b[K\n",
            "remote: Compressing objects: 100% (38/38), done.\u001b[K\n",
            "remote: Total 981 (delta 16), reused 32 (delta 8), pack-reused 931\u001b[K\n",
            "Receiving objects: 100% (981/981), 3.72 MiB | 22.26 MiB/s, done.\n",
            "Resolving deltas: 100% (479/479), done.\n",
            "/content/ma-gym\n",
            "Reading package lists... Done\n",
            "Building dependency tree       \n",
            "Reading state information... Done\n",
            "x11-utils is already the newest version (7.7+3build1).\n",
            "0 upgraded, 0 newly installed, 0 to remove and 32 not upgraded.\n",
            "Requirement already up-to-date: setuptools in /usr/local/lib/python3.7/dist-packages (53.1.0)\n"
          ],
          "name": "stdout"
        }
      ]
    },
    {
      "cell_type": "code",
      "metadata": {
        "id": "3sYf6AK2d6kK"
      },
      "source": [
        "%matplotlib inline\n",
        "import gym\n",
        "import ma_gym\n",
        "from ma_gym.wrappers import Monitor\n",
        "import glob\n",
        "import io\n",
        "import base64\n",
        "from IPython.display import HTML\n",
        "from IPython import display as ipythondisplay\n",
        "import time\n",
        "import math\n",
        "import random\n",
        "import numpy as np\n",
        "import matplotlib\n",
        "import matplotlib.pyplot as plt\n",
        "from collections import namedtuple\n",
        "from itertools import count\n",
        "import random\n",
        "\n",
        "import torch\n",
        "import torch.nn as nn\n",
        "import torch.optim as optim\n",
        "import torch.nn.functional as F\n",
        "import torchvision.transforms as T"
      ],
      "execution_count": 2,
      "outputs": []
    },
    {
      "cell_type": "code",
      "metadata": {
        "colab": {
          "base_uri": "https://localhost:8080/"
        },
        "id": "IiQjipJq4sWa",
        "outputId": "218edb04-6df7-438d-dfb9-21b16f94a4da"
      },
      "source": [
        "a = np.array([1,2,3,4])\n",
        "a[-3:]"
      ],
      "execution_count": 3,
      "outputs": [
        {
          "output_type": "execute_result",
          "data": {
            "text/plain": [
              "array([2, 3, 4])"
            ]
          },
          "metadata": {
            "tags": []
          },
          "execution_count": 3
        }
      ]
    },
    {
      "cell_type": "code",
      "metadata": {
        "colab": {
          "base_uri": "https://localhost:8080/"
        },
        "id": "XH12uoPknc2H",
        "outputId": "bdbbab86-c415-4cbf-c9c8-4b459668b7ec"
      },
      "source": [
        "### Some pytorch Tests\n",
        "\n",
        "n = 5\n",
        "m = 3\n",
        "A = torch.arange(0, n*m).view(n,m)\n",
        "print(A)\n",
        "\n",
        "B = torch.arange(0,4).view(1,4)\n",
        "print(B)\n",
        "\n",
        "action = B.argmax(dim=1).item()\n",
        "print(action)\n",
        "\n",
        "action = A.argmax(dim=1)\n",
        "print(action)\n",
        "\n",
        "actions = np.array([0,1])\n",
        "outcomes = np.array([np.array([12.4,23,89]),np.array([23,67,90.8])])\n",
        "actions = torch.from_numpy(actions)\n",
        "outcomes = torch.from_numpy(outcomes)\n",
        "print(outcomes.dtype)\n",
        "\n",
        "print(actions)\n",
        "print(outcomes)\n",
        "\n",
        "gathered_actions = outcomes.gather(dim = 1, index = actions.unsqueeze(-1))\n",
        "\n",
        "print(gathered_actions)\n",
        "\n",
        "max_outcomes = outcomes.max(dim=1)[0]\n",
        "\n",
        "print(max_outcomes)"
      ],
      "execution_count": 4,
      "outputs": [
        {
          "output_type": "stream",
          "text": [
            "tensor([[ 0,  1,  2],\n",
            "        [ 3,  4,  5],\n",
            "        [ 6,  7,  8],\n",
            "        [ 9, 10, 11],\n",
            "        [12, 13, 14]])\n",
            "tensor([[0, 1, 2, 3]])\n",
            "3\n",
            "tensor([2, 2, 2, 2, 2])\n",
            "torch.float64\n",
            "tensor([0, 1])\n",
            "tensor([[12.4000, 23.0000, 89.0000],\n",
            "        [23.0000, 67.0000, 90.8000]], dtype=torch.float64)\n",
            "tensor([[12.4000],\n",
            "        [67.0000]], dtype=torch.float64)\n",
            "tensor([89.0000, 90.8000], dtype=torch.float64)\n"
          ],
          "name": "stdout"
        }
      ]
    },
    {
      "cell_type": "code",
      "metadata": {
        "id": "JfZqAPuxnbVA"
      },
      "source": [
        "\"\"\"\n",
        "Utility functions to enable video recording of gym environment and displaying it\n",
        "To enable video, just do \"env = wrap_env(env)\"\"\n",
        "\"\"\"\n",
        "\n",
        "def show_video():\n",
        "  mp4list = glob.glob('video/*.mp4')\n",
        "  if len(mp4list) > 0:\n",
        "    mp4 = mp4list[0]\n",
        "    video = io.open(mp4, 'r+b').read()\n",
        "    encoded = base64.b64encode(video)\n",
        "    ipythondisplay.display(HTML(data='''<video alt=\"test\" autoplay \n",
        "                loop controls style=\"height: 200px;\">\n",
        "                <source src=\"data:video/mp4;base64,{0}\" type=\"video/mp4\" />\n",
        "             </video>'''.format(encoded.decode('ascii'))))\n",
        "  else: \n",
        "    print(\"Could not find video\")\n",
        "    \n",
        "\n",
        "def wrap_env(env):\n",
        "  env = Monitor(env, './video', force=True)\n",
        "  return env"
      ],
      "execution_count": 5,
      "outputs": []
    },
    {
      "cell_type": "markdown",
      "metadata": {
        "id": "jPuQOIYtAE0M"
      },
      "source": [
        "**Random Policy Agent Below**"
      ]
    },
    {
      "cell_type": "code",
      "metadata": {
        "colab": {
          "base_uri": "https://localhost:8080/",
          "height": 255
        },
        "id": "csKwsouh8b8e",
        "outputId": "3997b46a-546e-4102-8285-9a70cb3ec8ed"
      },
      "source": [
        "env = wrap_env(gym.make(\"Switch2-v0\")) # Use \"Switch4-v0\" for the Switch-4 game\n",
        "\n",
        "#### run the game for a number of episodes for a random policy\n",
        "episodes_reward = []\n",
        "cum_random_reward = []\n",
        "episodes_list = []\n",
        "episodes_num = 200\n",
        "\n",
        "for episode in range(episodes_num):\n",
        "\n",
        "  episodes_list.append(episode)\n",
        "\n",
        "  done_n = [False for _ in range(env.n_agents)]\n",
        "  ep_reward = 0\n",
        "\n",
        "  obs_n = env.reset()\n",
        "  while not all(done_n):\n",
        "      obs_n, reward_n, done_n, info = env.step(env.action_space.sample())\n",
        "      ep_reward += sum(reward_n)\n",
        "  episodes_reward.append(ep_reward)\n",
        "  cum_random_reward.append(sum(episodes_reward))\n",
        "\n",
        "env.close()\n",
        "# To improve the training efficiency, render() is not necessary during the training.\n",
        "# We provide the render and video code here just want to demonstrate how to debugging and analysis.\n",
        "show_video()"
      ],
      "execution_count": 6,
      "outputs": [
        {
          "output_type": "stream",
          "text": [
            "/usr/local/lib/python3.7/dist-packages/gym/logger.py:30: UserWarning: \u001b[33mWARN: Box bound precision lowered by casting to float32\u001b[0m\n",
            "  warnings.warn(colorize('%s: %s'%('WARN', msg % args), 'yellow'))\n"
          ],
          "name": "stderr"
        },
        {
          "output_type": "display_data",
          "data": {
            "text/html": [
              "<video alt=\"test\" autoplay \n",
              "                loop controls style=\"height: 200px;\">\n",
              "                <source src=\"data:video/mp4;base64,AAAAIGZ0eXBpc29tAAACAGlzb21pc28yYXZjMW1wNDEAAAAIZnJlZQAAAAhtZGF0AAAA1m1vb3YAAABsbXZoZAAAAAAAAAAAAAAAAAAAA+gAAAAAAAEAAAEAAAAAAAAAAAAAAAABAAAAAAAAAAAAAAAAAAAAAQAAAAAAAAAAAAAAAAAAQAAAAAAAAAAAAAAAAAAAAAAAAAAAAAAAAAAAAAAAAAIAAABidWR0YQAAAFptZXRhAAAAAAAAACFoZGxyAAAAAAAAAABtZGlyYXBwbAAAAAAAAAAAAAAAAC1pbHN0AAAAJal0b28AAAAdZGF0YQAAAAEAAAAATGF2ZjU3LjgzLjEwMA==\" type=\"video/mp4\" />\n",
              "             </video>"
            ],
            "text/plain": [
              "<IPython.core.display.HTML object>"
            ]
          },
          "metadata": {
            "tags": []
          }
        }
      ]
    },
    {
      "cell_type": "code",
      "metadata": {
        "id": "7C9RCxpvpMn1"
      },
      "source": [
        "is_ipython = 'inline' in matplotlib.get_backend()\n",
        "if is_ipython: from IPython import display"
      ],
      "execution_count": 7,
      "outputs": []
    },
    {
      "cell_type": "code",
      "metadata": {
        "id": "c9PDC7cypY3E",
        "colab": {
          "base_uri": "https://localhost:8080/",
          "height": 69
        },
        "outputId": "0da48350-9e71-4f82-b661-fb133cd3574f"
      },
      "source": [
        "'''class DQN(nn.Module):\n",
        "    def __init__(self):\n",
        "        super().__init__()\n",
        "        self.fc1 = nn.Linear(in_features=2, out_features=30)   \n",
        "        #self.fc2 = nn.Linear(in_features=24, out_features=32)\n",
        "        self.out = nn.Linear(in_features=30, out_features=5)\n",
        "\n",
        "    def forward(self, t):\n",
        "      t = F.relu(self.fc1(t))\n",
        "      #t = F.relu(self.fc2(t))\n",
        "      t = self.out(t)\n",
        "      return t'''"
      ],
      "execution_count": 8,
      "outputs": [
        {
          "output_type": "execute_result",
          "data": {
            "application/vnd.google.colaboratory.intrinsic+json": {
              "type": "string"
            },
            "text/plain": [
              "'class DQN(nn.Module):\\n    def __init__(self):\\n        super().__init__()\\n        self.fc1 = nn.Linear(in_features=2, out_features=30)   \\n        #self.fc2 = nn.Linear(in_features=24, out_features=32)\\n        self.out = nn.Linear(in_features=30, out_features=5)\\n\\n    def forward(self, t):\\n      t = F.relu(self.fc1(t))\\n      #t = F.relu(self.fc2(t))\\n      t = self.out(t)\\n      return t'"
            ]
          },
          "metadata": {
            "tags": []
          },
          "execution_count": 8
        }
      ]
    },
    {
      "cell_type": "code",
      "metadata": {
        "id": "5boPhFD2-m1n"
      },
      "source": [
        "class DQN(nn.Module):\n",
        "  def __init__(self):\n",
        "    super().__init__()\n",
        "    self.hidden_dim = 12\n",
        "    self.n_layers = 2\n",
        "    self.rnn = nn.RNN(2,self.hidden_dim,self.n_layers,batch_first = True)\n",
        "    self.fc = nn.Linear(self.hidden_dim,5)\n",
        "\n",
        "  def forward(self,x):\n",
        "\n",
        "    batch_size = x.size(0)\n",
        "    hidden = self.init_hidden(batch_size)\n",
        "    out, hidden = self.rnn(x,hidden)\n",
        "    return self.fc(out[:,-1,:])\n",
        "\n",
        "  def init_hidden(self,batch_size):\n",
        "    return torch.zeros(self.n_layers,batch_size,self.hidden_dim)"
      ],
      "execution_count": 9,
      "outputs": []
    },
    {
      "cell_type": "code",
      "metadata": {
        "id": "jkWlvUT8qH8R"
      },
      "source": [
        "Experience = namedtuple(\n",
        "    'Experience',\n",
        "    ('state', 'action', 'next_state', 'reward')\n",
        ")"
      ],
      "execution_count": 10,
      "outputs": []
    },
    {
      "cell_type": "code",
      "metadata": {
        "id": "UEssplr_1fKl"
      },
      "source": [
        "## define a timeseries states length\n",
        "state_timesteps = 3"
      ],
      "execution_count": 11,
      "outputs": []
    },
    {
      "cell_type": "code",
      "metadata": {
        "id": "Bisk2D1_qQRh"
      },
      "source": [
        "class ReplayMemory():\n",
        "\n",
        "    def __init__(self, capacity):\n",
        "        ## the maximum capacity of the replay memory\n",
        "        self.capacity = capacity\n",
        "        ## the memory queue\n",
        "        self.memory = []\n",
        "\n",
        "        ## used to overwrite old experiences first when needed\n",
        "        self.push_count = 0\n",
        "\n",
        "    '''def push(self, experience):\n",
        "      ## if the memory is not fully just append an experience at the end\n",
        "      if len(self.memory) < self.capacity:\n",
        "          self.memory.append(experience)\n",
        "      ## if the memory is full overwrite first old experiences\n",
        "      else:\n",
        "          self.memory[self.push_count % self.capacity] = experience\n",
        "\n",
        "      self.push_count += 1'''\n",
        "\n",
        "    def push(self,experience):\n",
        "      self.memory.append(experience)\n",
        "\n",
        "    '''def sample(self,batch_size):\n",
        "      random_sample  = random.sample(self.memory, batch_size)\n",
        "      return self.extract_tensors(random_sample)'''\n",
        "\n",
        "\n",
        "    ## collect a random sample of experiences from the replay memory\n",
        "    ## batch_size has to be <= capacity\n",
        "    def sample(self, batch_size):\n",
        "\n",
        "      states = []\n",
        "      actions = []\n",
        "      rewards = []\n",
        "      next_states =[]\n",
        "\n",
        "      #print(len(self.memory) - state_timesteps)\n",
        "      #print(batch_size)\n",
        "\n",
        "      ## select batch_size number of indexes to sample from \n",
        "      if(len(self.memory) < self.capacity):\n",
        "        indexes = random.sample(range(0,len(self.memory) - state_timesteps), batch_size)\n",
        "      else:\n",
        "        indexes = random.sample(range(len(self.memory) - self.capacity,len(self.memory) - state_timesteps), batch_size)\n",
        "\n",
        "      ## create timeseries of experience replay\n",
        "      for i in range(batch_size):\n",
        "        state,action,reward,next_state = self.give_timeseries_sample(indexes[i])\n",
        "        states.append(state)\n",
        "        actions.append(action)\n",
        "        rewards.append(reward)\n",
        "        next_states.append(next_state)\n",
        "\n",
        "      states = np.array(states)\n",
        "      actions = np.array(actions)\n",
        "      rewards = np.array(rewards)\n",
        "      next_states = np.array(next_states)\n",
        "\n",
        "      #print(\"-----\")\n",
        "      #print(states)\n",
        "      #print(actions)\n",
        "      #print(rewards)\n",
        "      #print(next_states)\n",
        "\n",
        "      return torch.from_numpy(states), torch.from_numpy(actions), torch.from_numpy(rewards), torch.from_numpy(next_states)\n",
        "\n",
        "    def give_timeseries_sample(self,start):\n",
        "\n",
        "      ## if the length of the memory is larger than its capacity select samples only from the last capacity part of the queue\n",
        "      if(len(self.memory) > self.capacity):\n",
        "        last_memory = self.memory[-self.capacity:]\n",
        "        #print(\"exceed the capacity\")\n",
        "      else:\n",
        "        last_memory = self.memory\n",
        "\n",
        "      end = start + state_timesteps\n",
        "      memory = last_memory[start:end]\n",
        "      t = Experience(*zip(*memory))\n",
        "\n",
        "      state = []\n",
        "      next_state = []\n",
        "\n",
        "      for i in range(len(t.state)):\n",
        "          state.append(np.array(t.state[i]))\n",
        "          next_state.append(np.array(t.next_state[i]))\n",
        "\n",
        "      return (np.array(state),np.array(t.action[-1]),np.array(t.reward[-1]),np.array(next_state))\n",
        "\n",
        "\n",
        "    def get_last_timeseries_action(self):\n",
        "      if(len(self.memory) >= state_timesteps):\n",
        "        memory = self.memory[-state_timesteps:]\n",
        "        t = Experience(*zip(*memory))\n",
        "        state = []\n",
        "        for i in range(len(t.state)):\n",
        "          state.append(np.array(t.state[i]))\n",
        "        return np.array(state)\n",
        "      else:\n",
        "        return None\n",
        "\n",
        "    ## check if the replay memory can provide us with the minibatch we need\n",
        "    def can_provide_sample(self, batch_size):\n",
        "      return len(self.memory) >= (batch_size + state_timesteps)\n",
        "\n",
        "    def extract_tensors(self,experiences):\n",
        "\n",
        "        # Convert batch of Experiences to Experience of batches\n",
        "        batch = Experience(*zip(*experiences))\n",
        "\n",
        "        ## create tensors with states actions and rewards\n",
        "        state = []\n",
        "        next_state = []\n",
        "        action = []\n",
        "        reward = []\n",
        "\n",
        "        for i in range(len(batch.state)):\n",
        "          state.append(np.array(batch.state[i]))\n",
        "          next_state.append(np.array(batch.next_state[i]))\n",
        "          action.append(np.array(batch.action[i]))\n",
        "          reward.append(np.array(batch.reward[i]))\n",
        "\n",
        "        return (torch.from_numpy(np.array(state)),torch.from_numpy(np.array(action)),torch.from_numpy(np.array(reward)),torch.from_numpy(np.array(next_state)))"
      ],
      "execution_count": 12,
      "outputs": []
    },
    {
      "cell_type": "code",
      "metadata": {
        "id": "EsQrrB8_sJ_x"
      },
      "source": [
        "class EpsilonGreedyStrategy():\n",
        "    def __init__(self, start, end, decay):\n",
        "        self.start = start\n",
        "        self.end = end\n",
        "        self.decay = decay\n",
        "\n",
        "    def get_exploration_rate(self, current_step):\n",
        "      return self.end + (self.start - self.end) * \\\n",
        "        math.exp(-1. * current_step * self.decay)"
      ],
      "execution_count": 13,
      "outputs": []
    },
    {
      "cell_type": "code",
      "metadata": {
        "id": "UwlqRTv7ttp4"
      },
      "source": [
        "class Agent():\n",
        "    def __init__(self, strategy, num_actions, device):\n",
        "        self.current_step = 0\n",
        "        self.strategy = strategy\n",
        "        self.num_actions = num_actions\n",
        "        self.device = device\n",
        "\n",
        "    def select_action(self, state, policy_net):\n",
        "      \n",
        "        rate = self.strategy.get_exploration_rate(self.current_step)\n",
        "        self.current_step += 1\n",
        "\n",
        "        if rate > random.random() or self.current_step < state_timesteps:\n",
        "            #print(\"Exploration\")\n",
        "            ## explore and return a random action\n",
        "            return random.randrange(self.num_actions)\n",
        "        else:\n",
        "            #print(\"Exploitation\")\n",
        "            with torch.no_grad():\n",
        "              # exploit and return an action based on the policy net\n",
        "              state_tensor = torch.from_numpy(np.array(state))\n",
        "              state_tensor = torch.unsqueeze(state_tensor, 0)\n",
        "              #print(state_tensor.shape)\n",
        "              actions = policy_net(state_tensor.float())\n",
        "              #print(actions)\n",
        "              action = actions.argmax(dim=1).to(self.device).item()\n",
        "              #return policy_net(state).argmax(dim=1).to(self.device).item()\n",
        "              return action"
      ],
      "execution_count": 14,
      "outputs": []
    },
    {
      "cell_type": "code",
      "metadata": {
        "id": "MduL7TS9uqTE"
      },
      "source": [
        "class SwitchManager():\n",
        "\n",
        "    def __init__(self, device, env_name):\n",
        "        self.device = device\n",
        "        self.env = gym.make(env_name).unwrapped\n",
        "        self.env.reset()\n",
        "\n",
        "    def reset(self):\n",
        "        state = self.env.reset()\n",
        "        return state\n",
        "\n",
        "    def close(self):\n",
        "        self.env.close()\n",
        "\n",
        "    def render(self, mode='human'):\n",
        "        return self.env.render(mode)\n",
        "\n",
        "    def num_actions_available(self):\n",
        "        return self.env.action_space[0].n\n",
        "\n",
        "    def take_action(self, action):        \n",
        "        return self.env.step(action)  "
      ],
      "execution_count": 15,
      "outputs": []
    },
    {
      "cell_type": "code",
      "metadata": {
        "id": "i2XrpqhSvjeb"
      },
      "source": [
        "batch_size = 128\n",
        "gamma = 0.999\n",
        "eps_start = 1\n",
        "eps_end = 0.01\n",
        "eps_decay = 0.001\n",
        "target_update = 10\n",
        "memory_size = 100000\n",
        "lr = 0.001\n",
        "num_episodes = 200\n",
        "agents_num = 2"
      ],
      "execution_count": 16,
      "outputs": []
    },
    {
      "cell_type": "code",
      "metadata": {
        "id": "UYKJVWyavqQF"
      },
      "source": [
        "device = torch.device(\"cuda\" if torch.cuda.is_available() else \"cpu\")"
      ],
      "execution_count": 17,
      "outputs": []
    },
    {
      "cell_type": "code",
      "metadata": {
        "colab": {
          "base_uri": "https://localhost:8080/"
        },
        "id": "UJCQ7RdWvtpD",
        "outputId": "81b09cea-a16d-4052-f8b9-609a89adad51"
      },
      "source": [
        "env_name = \"Switch2-v0\"\n",
        "environment = SwitchManager(device,env_name)\n",
        "strategy = EpsilonGreedyStrategy(eps_start, eps_end, eps_decay)"
      ],
      "execution_count": 18,
      "outputs": [
        {
          "output_type": "stream",
          "text": [
            "/usr/local/lib/python3.7/dist-packages/gym/logger.py:30: UserWarning: \u001b[33mWARN: Box bound precision lowered by casting to float32\u001b[0m\n",
            "  warnings.warn(colorize('%s: %s'%('WARN', msg % args), 'yellow'))\n"
          ],
          "name": "stderr"
        }
      ]
    },
    {
      "cell_type": "code",
      "metadata": {
        "id": "f91-SpZxvzvw"
      },
      "source": [
        "agents = []\n",
        "memories = []\n",
        "policy_nets = []\n",
        "target_nets = []\n",
        "optimizers = []\n",
        "for i in range(agents_num):\n",
        "  agents.append(Agent(strategy, environment.num_actions_available(), device))\n",
        "  memories.append(ReplayMemory(memory_size))\n",
        "  policy_nets.append(DQN().to(device))\n",
        "  target_nets.append(DQN().to(device))\n",
        "  target_nets[i].load_state_dict(policy_nets[i].state_dict())\n",
        "  target_nets[i].eval()\n",
        "  optimizers.append(optim.Adam(params=policy_nets[i].parameters(), lr=lr))"
      ],
      "execution_count": 19,
      "outputs": []
    },
    {
      "cell_type": "code",
      "metadata": {
        "id": "tBRFvCj5xHLl"
      },
      "source": [
        "class QValues():\n",
        "    device = torch.device(\"cuda\" if torch.cuda.is_available() else \"cpu\")\n",
        "\n",
        "    @staticmethod\n",
        "    def get_current(policy_net, states, actions):\n",
        "        ## given the current state and the policy nextwotk and a specific action get its Q value\n",
        "        return policy_net(states).gather(dim=1, index=actions.unsqueeze(-1))\n",
        "\n",
        "    @staticmethod        \n",
        "    def get_next(target_net, next_states):                \n",
        "      ## given the next state return the max Q value output using the taarget network\n",
        "      return target_net(next_states).max(dim=1)[0].detach()"
      ],
      "execution_count": 20,
      "outputs": []
    },
    {
      "cell_type": "code",
      "metadata": {
        "id": "YpZe30-4wE8v",
        "colab": {
          "base_uri": "https://localhost:8080/"
        },
        "outputId": "d0ff009a-295b-42b0-b3b3-2c8961272fc7"
      },
      "source": [
        "## for each episode\n",
        "reward_list = []\n",
        "episode_list = []\n",
        "cum_reward = []\n",
        "\n",
        "for episode in range(num_episodes):\n",
        "\n",
        "    print(episode)\n",
        "\n",
        "    episode_list.append(episode)\n",
        "\n",
        "    done = [False for _ in range(agents_num)]\n",
        "\n",
        "    #print(\"Episode \" + str(episode))\n",
        "\n",
        "    ## reward for the specific episode\n",
        "    eps_reward = 0\n",
        "\n",
        "    #done_n = [False for _ in range(env.n_agents)]\n",
        "\n",
        "    ## reset the environment at the start of each episode\n",
        "    state  = environment.reset()\n",
        "\n",
        "    steps = 0\n",
        "\n",
        "    ## for each timestep of thee episode\n",
        "    while (not all(done)) :\n",
        "\n",
        "      steps += 1\n",
        "\n",
        "      actions = []\n",
        "      ## for every agent\n",
        "      for i in range(agents_num):\n",
        "        ## select an action according to the policy net\n",
        "        \n",
        "        action = agents[i].select_action(memories[i].get_last_timeseries_action(), policy_nets[i])\n",
        "        #action = agents[i].select_action(state[i], policy_nets[i])\n",
        "        actions.append(action)\n",
        "\n",
        "      ## execute the actions and obtain the reward of the actions selected\n",
        "      next_state, reward, done, info = environment.take_action(actions)\n",
        "      eps_reward += sum(reward)\n",
        "\n",
        "      #print(done)\n",
        "\n",
        "      for i in range(agents_num):\n",
        "        ## save the experience to the replay memory\n",
        "        memories[i].push(Experience(state[i], actions[i], next_state[i], sum(reward)))\n",
        "\n",
        "      state = next_state\n",
        "\n",
        "      for i in range(agents_num):\n",
        "          ## if the memory can provide us with a minibatch of experiences\n",
        "          if memories[i].can_provide_sample(batch_size):\n",
        "              ## sample randomly a minibatch from the memory\n",
        "              ## get tensors of the components of the experience batch\n",
        "              states, actions, rewards, next_states = memories[i].sample(batch_size)\n",
        "\n",
        "              ## get the current Q values using the policy network\n",
        "              current_q_values = QValues.get_current(policy_nets[i], states.float(), actions)\n",
        "\n",
        "              ## get the next Q values using the target network\n",
        "              next_q_values = QValues.get_next(target_nets[i], next_states.float())\n",
        "              ## compute the target Q values using bellman equation\n",
        "              target_q_values = (next_q_values * gamma) + rewards\n",
        "\n",
        "              ## compute the loss\n",
        "              loss = F.mse_loss(current_q_values.float(), target_q_values.unsqueeze(1).float())\n",
        "              ## update the policy network\n",
        "              optimizers[i].zero_grad()\n",
        "              loss.backward()\n",
        "              optimizers[i].step()\n",
        "\n",
        "      ## every a number of episodes update the target networks weights with the respective policy networks weights\n",
        "      if episode % target_update == 0:\n",
        "          for i in range(agents_num):\n",
        "              target_nets[i].load_state_dict(policy_nets[i].state_dict())\n",
        "\n",
        "    reward_list.append(eps_reward)\n",
        "    cum_reward.append(sum(reward_list))\n",
        "    \n",
        "## close the environment after the training of the network\n",
        "environment.close()"
      ],
      "execution_count": 21,
      "outputs": [
        {
          "output_type": "stream",
          "text": [
            "0\n",
            "1\n",
            "2\n",
            "3\n",
            "4\n",
            "5\n",
            "6\n",
            "7\n",
            "8\n",
            "9\n",
            "10\n",
            "11\n",
            "12\n",
            "13\n",
            "14\n",
            "15\n",
            "16\n",
            "17\n",
            "18\n",
            "19\n",
            "20\n",
            "21\n",
            "22\n",
            "23\n",
            "24\n",
            "25\n",
            "26\n",
            "27\n",
            "28\n",
            "29\n",
            "30\n",
            "31\n",
            "32\n",
            "33\n",
            "34\n",
            "35\n",
            "36\n",
            "37\n",
            "38\n",
            "39\n",
            "40\n",
            "41\n",
            "42\n",
            "43\n",
            "44\n",
            "45\n",
            "46\n",
            "47\n",
            "48\n",
            "49\n",
            "50\n",
            "51\n",
            "52\n",
            "53\n",
            "54\n",
            "55\n",
            "56\n",
            "57\n",
            "58\n",
            "59\n",
            "60\n",
            "61\n",
            "62\n",
            "63\n",
            "64\n",
            "65\n",
            "66\n",
            "67\n",
            "68\n",
            "69\n",
            "70\n",
            "71\n",
            "72\n",
            "73\n",
            "74\n",
            "75\n",
            "76\n",
            "77\n",
            "78\n",
            "79\n",
            "80\n",
            "81\n",
            "82\n",
            "83\n",
            "84\n",
            "85\n",
            "86\n",
            "87\n",
            "88\n",
            "89\n",
            "90\n",
            "91\n",
            "92\n",
            "93\n",
            "94\n",
            "95\n",
            "96\n",
            "97\n",
            "98\n",
            "99\n",
            "100\n",
            "101\n",
            "102\n",
            "103\n",
            "104\n",
            "105\n",
            "106\n",
            "107\n",
            "108\n",
            "109\n",
            "110\n",
            "111\n",
            "112\n",
            "113\n",
            "114\n",
            "115\n",
            "116\n",
            "117\n",
            "118\n",
            "119\n",
            "120\n",
            "121\n",
            "122\n",
            "123\n",
            "124\n",
            "125\n",
            "126\n",
            "127\n",
            "128\n",
            "129\n",
            "130\n",
            "131\n",
            "132\n",
            "133\n",
            "134\n",
            "135\n",
            "136\n",
            "137\n",
            "138\n",
            "139\n",
            "140\n",
            "141\n",
            "142\n",
            "143\n",
            "144\n",
            "145\n",
            "146\n",
            "147\n",
            "148\n",
            "149\n",
            "150\n",
            "151\n",
            "152\n",
            "153\n",
            "154\n",
            "155\n",
            "156\n",
            "157\n",
            "158\n",
            "159\n",
            "160\n",
            "161\n",
            "162\n",
            "163\n",
            "164\n",
            "165\n",
            "166\n",
            "167\n",
            "168\n",
            "169\n",
            "170\n",
            "171\n",
            "172\n",
            "173\n",
            "174\n",
            "175\n",
            "176\n",
            "177\n",
            "178\n",
            "179\n",
            "180\n",
            "181\n",
            "182\n",
            "183\n",
            "184\n",
            "185\n",
            "186\n",
            "187\n",
            "188\n",
            "189\n",
            "190\n",
            "191\n",
            "192\n",
            "193\n",
            "194\n",
            "195\n",
            "196\n",
            "197\n",
            "198\n",
            "199\n"
          ],
          "name": "stdout"
        }
      ]
    },
    {
      "cell_type": "code",
      "metadata": {
        "colab": {
          "base_uri": "https://localhost:8080/",
          "height": 295
        },
        "id": "KkFDvtZ77n-6",
        "outputId": "6b051a12-50ae-443a-8537-39ad52e1a9a5"
      },
      "source": [
        "train_plot=plt.plot(episode_list,reward_list,label=\"training curve\")\n",
        "random_policy=plt.plot(episodes_list,episodes_reward,label=\"random policy\")\n",
        "plt.legend()\n",
        "plt.title(\"DQN Vs Random Policy for Switch Environment\")\n",
        "plt.xlabel(\"Episodes\")\n",
        "plt.ylabel(\"Reward\")\n",
        "plt.show()"
      ],
      "execution_count": 22,
      "outputs": [
        {
          "output_type": "display_data",
          "data": {
            "image/png": "[encoded data removed]",
            "text/plain": [
              "<Figure size 432x288 with 1 Axes>"
            ]
          },
          "metadata": {
            "tags": [],
            "needs_background": "light"
          }
        }
      ]
    },
    {
      "cell_type": "code",
      "metadata": {
        "colab": {
          "base_uri": "https://localhost:8080/",
          "height": 295
        },
        "id": "F9BYaYsMo13k",
        "outputId": "18e3f7e0-ceb8-4896-ccaa-a270335ff6e0"
      },
      "source": [
        "train_plot=plt.plot(episode_list,cum_reward,label=\"training cummulative reward\")\n",
        "random_policy=plt.plot(episodes_list,cum_random_reward,label=\"random cummulative reward\")\n",
        "plt.legend()\n",
        "plt.title(\"DQN Vs Random Policy for Switch Environment\")\n",
        "plt.xlabel(\"Episodes\")\n",
        "plt.ylabel(\"Cummulative Reward\")\n",
        "plt.show()"
      ],
      "execution_count": 23,
      "outputs": [
        {
          "output_type": "display_data",
          "data": {
            "image/png": "[encoded data removed]",
            "text/plain": [
              "<Figure size 432x288 with 1 Axes>"
            ]
          },
          "metadata": {
            "tags": [],
            "needs_background": "light"
          }
        }
      ]
    }
  ]
}